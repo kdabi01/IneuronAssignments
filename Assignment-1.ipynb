{
 "cells": [
  {
   "cell_type": "raw",
   "id": "83f8168f",
   "metadata": {},
   "source": [
    "Q-1: In the below elements which of them are values or an expression? eg:- values can be\n",
    "integer or string and expressions will be mathematical operators.\n",
    "*\n",
    "'hello'\n",
    "-87.8\n",
    "-\n",
    "/\n",
    "+\n",
    "6\n",
    "Ans -\n",
    "* - Mathematical Operator\n",
    "'hello' - String\n",
    "-87.8 - Float\n",
    "- - Mathematical Operator\n",
    "/ - Mathematical Operator\n",
    "+ - Mathematical Operator\n",
    "6 - Integer "
   ]
  },
  {
   "cell_type": "raw",
   "id": "06701650",
   "metadata": {},
   "source": [
    "Q-2: What is the difference between string and variable?\n",
    "Ans: String is a variable itself, which is used to store character. For example - 'hello' is a string (str) type variable.\n",
    "Variable is anything, which is used to store data of different type."
   ]
  },
  {
   "cell_type": "raw",
   "id": "299eaf68",
   "metadata": {},
   "source": [
    "Q-3: Describe three different data types.\n",
    "Ans: 1. Interger datatype like - 123\n",
    "    2. Float datatype - like 35.26\n",
    "    3. Bool datatype - like True (1) and False (0)"
   ]
  },
  {
   "cell_type": "raw",
   "id": "9564ae2e",
   "metadata": {},
   "source": [
    "Q-4: What is an expression made up of? What do all expressions do?\n",
    "Ans: An expression is a combination of integer/float/string datatypes and mathematical expressions.\n",
    "    For example - y = mx+c or z = 3x+4y"
   ]
  },
  {
   "cell_type": "raw",
   "id": "5657cc8b",
   "metadata": {},
   "source": [
    "Q-5: This assignment statements, like spam = 10. What is the difference between an expression and a statement?\n",
    "Ans: 1. For example - z = 4x+3y, this is an expression, because this can be calculated and provide me different-2 values of z\n",
    "    at different x and y. So, it can be said that an expression is an executatble statement. Which provides me some result.\n",
    "    But\n",
    "    A statement after execution doesn't provide any result. For example - 'I am feeling great while learning Python'."
   ]
  },
  {
   "cell_type": "raw",
   "id": "3dffff8b",
   "metadata": {},
   "source": [
    "Q-6 After running the following code, what does the variable bacon contain?\n",
    "bacon = 22\n",
    "Ans: bacon + 1 = 23"
   ]
  },
  {
   "cell_type": "code",
   "execution_count": 1,
   "id": "8de03416",
   "metadata": {},
   "outputs": [],
   "source": [
    "bacon = 22"
   ]
  },
  {
   "cell_type": "code",
   "execution_count": 2,
   "id": "731fc98e",
   "metadata": {},
   "outputs": [
    {
     "data": {
      "text/plain": [
       "23"
      ]
     },
     "execution_count": 2,
     "metadata": {},
     "output_type": "execute_result"
    }
   ],
   "source": [
    "bacon + 1"
   ]
  },
  {
   "cell_type": "raw",
   "id": "765488cf",
   "metadata": {},
   "source": [
    "Q-7: What should the values of the following two terms be?\n",
    "'spam' + 'spamspam' = 'spamspamsspam'\n",
    "'spam' * 3 = 'spamspamspam'"
   ]
  },
  {
   "cell_type": "code",
   "execution_count": 3,
   "id": "4a31dde8",
   "metadata": {},
   "outputs": [
    {
     "data": {
      "text/plain": [
       "'spamspamsspam'"
      ]
     },
     "execution_count": 3,
     "metadata": {},
     "output_type": "execute_result"
    }
   ],
   "source": [
    "'spam' + 'spamsspam'"
   ]
  },
  {
   "cell_type": "code",
   "execution_count": 4,
   "id": "99677d60",
   "metadata": {},
   "outputs": [
    {
     "data": {
      "text/plain": [
       "'spamspamspam'"
      ]
     },
     "execution_count": 4,
     "metadata": {},
     "output_type": "execute_result"
    }
   ],
   "source": [
    "'spam' * 3"
   ]
  },
  {
   "cell_type": "raw",
   "id": "723b3e03",
   "metadata": {},
   "source": [
    "Q-8: Why is eggs a valid variable name while 100 is invalid?\n",
    "Ans: eggs is a valid variable name because at this point of time Python doesn't understand the type of variable. But if i provide 100 as a variable name, python by nature know that it is integer type value. Hence it can't store some other valye/data."
   ]
  },
  {
   "cell_type": "raw",
   "id": "2187dc47",
   "metadata": {},
   "source": [
    "Q-9: What three functions can be used to get the integer, floating-point number, or string\n",
    "version of a value?\n",
    "Ans - int() for integer\n",
    "float() for floating point number\n",
    "str() for string"
   ]
  },
  {
   "cell_type": "code",
   "execution_count": 7,
   "id": "f3148e44",
   "metadata": {},
   "outputs": [
    {
     "data": {
      "text/plain": [
       "int"
      ]
     },
     "execution_count": 7,
     "metadata": {},
     "output_type": "execute_result"
    }
   ],
   "source": [
    "# by default python know that below variable is an integer.\n",
    "var = 2\n",
    "type(var)"
   ]
  },
  {
   "cell_type": "code",
   "execution_count": 8,
   "id": "b9d25732",
   "metadata": {},
   "outputs": [
    {
     "data": {
      "text/plain": [
       "float"
      ]
     },
     "execution_count": 8,
     "metadata": {},
     "output_type": "execute_result"
    }
   ],
   "source": [
    "var = float(2)\n",
    "type(var)"
   ]
  },
  {
   "cell_type": "code",
   "execution_count": 9,
   "id": "dad72d7d",
   "metadata": {},
   "outputs": [
    {
     "data": {
      "text/plain": [
       "str"
      ]
     },
     "execution_count": 9,
     "metadata": {},
     "output_type": "execute_result"
    }
   ],
   "source": [
    "var = str(2)\n",
    "type(var)"
   ]
  },
  {
   "cell_type": "raw",
   "id": "4df2b291",
   "metadata": {},
   "source": [
    "Q-10: Why does this expression cause an error? How can you fix it?\n",
    "'I have eaten' + 99 + 'burritos.'\n",
    "\n",
    "Ans - We are trying to add two different datatypes (in this case int and str), which is not allowed in python.\n",
    "To correct that, convert 99 into string like below -\n",
    "'I have eaten' + str(99) + 'burritos.'"
   ]
  },
  {
   "cell_type": "code",
   "execution_count": 10,
   "id": "8b7899ab",
   "metadata": {},
   "outputs": [
    {
     "ename": "TypeError",
     "evalue": "can only concatenate str (not \"int\") to str",
     "output_type": "error",
     "traceback": [
      "\u001b[1;31m---------------------------------------------------------------------------\u001b[0m",
      "\u001b[1;31mTypeError\u001b[0m                                 Traceback (most recent call last)",
      "Input \u001b[1;32mIn [10]\u001b[0m, in \u001b[0;36m<cell line: 1>\u001b[1;34m()\u001b[0m\n\u001b[1;32m----> 1\u001b[0m \u001b[38;5;124;43m'\u001b[39;49m\u001b[38;5;124;43mI have eaten\u001b[39;49m\u001b[38;5;124;43m'\u001b[39;49m\u001b[43m \u001b[49m\u001b[38;5;241;43m+\u001b[39;49m\u001b[43m \u001b[49m\u001b[38;5;241;43m99\u001b[39;49m \u001b[38;5;241m+\u001b[39m \u001b[38;5;124m'\u001b[39m\u001b[38;5;124mburritos.\u001b[39m\u001b[38;5;124m'\u001b[39m\n",
      "\u001b[1;31mTypeError\u001b[0m: can only concatenate str (not \"int\") to str"
     ]
    }
   ],
   "source": [
    "'I have eaten' + 99 + 'burritos.'"
   ]
  },
  {
   "cell_type": "code",
   "execution_count": 11,
   "id": "feff6a13",
   "metadata": {},
   "outputs": [
    {
     "data": {
      "text/plain": [
       "'I have eaten99burritos.'"
      ]
     },
     "execution_count": 11,
     "metadata": {},
     "output_type": "execute_result"
    }
   ],
   "source": [
    "'I have eaten' + str(99) + 'burritos.'"
   ]
  },
  {
   "cell_type": "code",
   "execution_count": 12,
   "id": "366bac1f",
   "metadata": {},
   "outputs": [
    {
     "data": {
      "text/plain": [
       "'I have eaten99burritos.'"
      ]
     },
     "execution_count": 12,
     "metadata": {},
     "output_type": "execute_result"
    }
   ],
   "source": [
    "'I have eaten' + '99' + 'burritos.'"
   ]
  }
 ],
 "metadata": {
  "kernelspec": {
   "display_name": "Python 3 (ipykernel)",
   "language": "python",
   "name": "python3"
  },
  "language_info": {
   "codemirror_mode": {
    "name": "ipython",
    "version": 3
   },
   "file_extension": ".py",
   "mimetype": "text/x-python",
   "name": "python",
   "nbconvert_exporter": "python",
   "pygments_lexer": "ipython3",
   "version": "3.9.12"
  }
 },
 "nbformat": 4,
 "nbformat_minor": 5
}
